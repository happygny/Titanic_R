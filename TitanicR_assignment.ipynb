{
 "cells": [
  {
   "cell_type": "code",
   "execution_count": 3,
   "metadata": {},
   "outputs": [
    {
     "data": {},
     "metadata": {},
     "output_type": "display_data"
    }
   ],
   "source": [
    "library()"
   ]
  },
  {
   "cell_type": "code",
   "execution_count": 4,
   "metadata": {},
   "outputs": [
    {
     "name": "stderr",
     "output_type": "stream",
     "text": [
      "gdata: read.xls support for 'XLS' (Excel 97-2004) files ENABLED.\n",
      "\n",
      "gdata: read.xls support for 'XLSX' (Excel 2007+) files ENABLED.\n",
      "\n",
      "Attaching package: ‘gdata’\n",
      "\n",
      "The following object is masked from ‘package:stats’:\n",
      "\n",
      "    nobs\n",
      "\n",
      "The following object is masked from ‘package:utils’:\n",
      "\n",
      "    object.size\n",
      "\n",
      "The following object is masked from ‘package:base’:\n",
      "\n",
      "    startsWith\n",
      "\n"
     ]
    }
   ],
   "source": [
    "library(gdata)"
   ]
  },
  {
   "cell_type": "code",
   "execution_count": 6,
   "metadata": {},
   "outputs": [],
   "source": [
    "# read in excel data\n",
    "df = read.xls(\"titanic3.xls\", sheet = 1, header = TRUE)"
   ]
  },
  {
   "cell_type": "code",
   "execution_count": 7,
   "metadata": {},
   "outputs": [
    {
     "data": {
      "text/html": [
       "<ol class=list-inline>\n",
       "\t<li>'pclass'</li>\n",
       "\t<li>'survived'</li>\n",
       "\t<li>'name'</li>\n",
       "\t<li>'sex'</li>\n",
       "\t<li>'age'</li>\n",
       "\t<li>'sibsp'</li>\n",
       "\t<li>'parch'</li>\n",
       "\t<li>'ticket'</li>\n",
       "\t<li>'fare'</li>\n",
       "\t<li>'cabin'</li>\n",
       "\t<li>'embarked'</li>\n",
       "\t<li>'boat'</li>\n",
       "\t<li>'body'</li>\n",
       "\t<li>'home.dest'</li>\n",
       "</ol>\n"
      ],
      "text/latex": [
       "\\begin{enumerate*}\n",
       "\\item 'pclass'\n",
       "\\item 'survived'\n",
       "\\item 'name'\n",
       "\\item 'sex'\n",
       "\\item 'age'\n",
       "\\item 'sibsp'\n",
       "\\item 'parch'\n",
       "\\item 'ticket'\n",
       "\\item 'fare'\n",
       "\\item 'cabin'\n",
       "\\item 'embarked'\n",
       "\\item 'boat'\n",
       "\\item 'body'\n",
       "\\item 'home.dest'\n",
       "\\end{enumerate*}\n"
      ],
      "text/markdown": [
       "1. 'pclass'\n",
       "2. 'survived'\n",
       "3. 'name'\n",
       "4. 'sex'\n",
       "5. 'age'\n",
       "6. 'sibsp'\n",
       "7. 'parch'\n",
       "8. 'ticket'\n",
       "9. 'fare'\n",
       "10. 'cabin'\n",
       "11. 'embarked'\n",
       "12. 'boat'\n",
       "13. 'body'\n",
       "14. 'home.dest'\n",
       "\n",
       "\n"
      ],
      "text/plain": [
       " [1] \"pclass\"    \"survived\"  \"name\"      \"sex\"       \"age\"       \"sibsp\"    \n",
       " [7] \"parch\"     \"ticket\"    \"fare\"      \"cabin\"     \"embarked\"  \"boat\"     \n",
       "[13] \"body\"      \"home.dest\""
      ]
     },
     "metadata": {},
     "output_type": "display_data"
    }
   ],
   "source": [
    "# list variable names\n",
    "names(df)"
   ]
  },
  {
   "cell_type": "code",
   "execution_count": 9,
   "metadata": {},
   "outputs": [],
   "source": [
    "# create a numerical variable for gender \n",
    "df$gen_dum = ifelse(df$sex==\"male\",1,0)"
   ]
  },
  {
   "cell_type": "code",
   "execution_count": 10,
   "metadata": {},
   "outputs": [
    {
     "data": {
      "text/html": [
       "<ol class=list-inline>\n",
       "\t<li>'pclass'</li>\n",
       "\t<li>'survived'</li>\n",
       "\t<li>'name'</li>\n",
       "\t<li>'sex'</li>\n",
       "\t<li>'age'</li>\n",
       "\t<li>'sibsp'</li>\n",
       "\t<li>'parch'</li>\n",
       "\t<li>'ticket'</li>\n",
       "\t<li>'fare'</li>\n",
       "\t<li>'cabin'</li>\n",
       "\t<li>'embarked'</li>\n",
       "\t<li>'boat'</li>\n",
       "\t<li>'body'</li>\n",
       "\t<li>'home.dest'</li>\n",
       "\t<li>'gen_dum'</li>\n",
       "</ol>\n"
      ],
      "text/latex": [
       "\\begin{enumerate*}\n",
       "\\item 'pclass'\n",
       "\\item 'survived'\n",
       "\\item 'name'\n",
       "\\item 'sex'\n",
       "\\item 'age'\n",
       "\\item 'sibsp'\n",
       "\\item 'parch'\n",
       "\\item 'ticket'\n",
       "\\item 'fare'\n",
       "\\item 'cabin'\n",
       "\\item 'embarked'\n",
       "\\item 'boat'\n",
       "\\item 'body'\n",
       "\\item 'home.dest'\n",
       "\\item 'gen\\_dum'\n",
       "\\end{enumerate*}\n"
      ],
      "text/markdown": [
       "1. 'pclass'\n",
       "2. 'survived'\n",
       "3. 'name'\n",
       "4. 'sex'\n",
       "5. 'age'\n",
       "6. 'sibsp'\n",
       "7. 'parch'\n",
       "8. 'ticket'\n",
       "9. 'fare'\n",
       "10. 'cabin'\n",
       "11. 'embarked'\n",
       "12. 'boat'\n",
       "13. 'body'\n",
       "14. 'home.dest'\n",
       "15. 'gen_dum'\n",
       "\n",
       "\n"
      ],
      "text/plain": [
       " [1] \"pclass\"    \"survived\"  \"name\"      \"sex\"       \"age\"       \"sibsp\"    \n",
       " [7] \"parch\"     \"ticket\"    \"fare\"      \"cabin\"     \"embarked\"  \"boat\"     \n",
       "[13] \"body\"      \"home.dest\" \"gen_dum\"  "
      ]
     },
     "metadata": {},
     "output_type": "display_data"
    }
   ],
   "source": [
    "# make sure the new variable is added in the existing matrix (data table)\n",
    "names(df)"
   ]
  },
  {
   "cell_type": "code",
   "execution_count": 11,
   "metadata": {},
   "outputs": [
    {
     "data": {
      "text/html": [
       "1309"
      ],
      "text/latex": [
       "1309"
      ],
      "text/markdown": [
       "1309"
      ],
      "text/plain": [
       "[1] 1309"
      ]
     },
     "metadata": {},
     "output_type": "display_data"
    }
   ],
   "source": [
    "# show the number of rows in the matrix\n",
    "nrow(df)"
   ]
  },
  {
   "cell_type": "code",
   "execution_count": 12,
   "metadata": {},
   "outputs": [],
   "source": [
    "# remove duplicated rows by the \"name\" variable\n",
    "df1 = df[!duplicated(df$name),]"
   ]
  },
  {
   "cell_type": "code",
   "execution_count": 13,
   "metadata": {},
   "outputs": [
    {
     "data": {
      "text/html": [
       "1307"
      ],
      "text/latex": [
       "1307"
      ],
      "text/markdown": [
       "1307"
      ],
      "text/plain": [
       "[1] 1307"
      ]
     },
     "metadata": {},
     "output_type": "display_data"
    }
   ],
   "source": [
    "# show the number of rows in the new matrix\n",
    "nrow(df1)"
   ]
  },
  {
   "cell_type": "code",
   "execution_count": 36,
   "metadata": {},
   "outputs": [],
   "source": [
    "# create a column that gives total number of relatives on board\n",
    "df1$tot_rel <- df1$sibsp + df1$parch"
   ]
  },
  {
   "cell_type": "code",
   "execution_count": 37,
   "metadata": {},
   "outputs": [
    {
     "data": {
      "text/html": [
       "<ol class=list-inline>\n",
       "\t<li>'pclass'</li>\n",
       "\t<li>'survived'</li>\n",
       "\t<li>'name'</li>\n",
       "\t<li>'sex'</li>\n",
       "\t<li>'age'</li>\n",
       "\t<li>'sibsp'</li>\n",
       "\t<li>'parch'</li>\n",
       "\t<li>'ticket'</li>\n",
       "\t<li>'fare'</li>\n",
       "\t<li>'cabin'</li>\n",
       "\t<li>'embarked'</li>\n",
       "\t<li>'boat'</li>\n",
       "\t<li>'body'</li>\n",
       "\t<li>'home.dest'</li>\n",
       "\t<li>'gen_dum'</li>\n",
       "\t<li>'tot_rel'</li>\n",
       "</ol>\n"
      ],
      "text/latex": [
       "\\begin{enumerate*}\n",
       "\\item 'pclass'\n",
       "\\item 'survived'\n",
       "\\item 'name'\n",
       "\\item 'sex'\n",
       "\\item 'age'\n",
       "\\item 'sibsp'\n",
       "\\item 'parch'\n",
       "\\item 'ticket'\n",
       "\\item 'fare'\n",
       "\\item 'cabin'\n",
       "\\item 'embarked'\n",
       "\\item 'boat'\n",
       "\\item 'body'\n",
       "\\item 'home.dest'\n",
       "\\item 'gen\\_dum'\n",
       "\\item 'tot\\_rel'\n",
       "\\end{enumerate*}\n"
      ],
      "text/markdown": [
       "1. 'pclass'\n",
       "2. 'survived'\n",
       "3. 'name'\n",
       "4. 'sex'\n",
       "5. 'age'\n",
       "6. 'sibsp'\n",
       "7. 'parch'\n",
       "8. 'ticket'\n",
       "9. 'fare'\n",
       "10. 'cabin'\n",
       "11. 'embarked'\n",
       "12. 'boat'\n",
       "13. 'body'\n",
       "14. 'home.dest'\n",
       "15. 'gen_dum'\n",
       "16. 'tot_rel'\n",
       "\n",
       "\n"
      ],
      "text/plain": [
       " [1] \"pclass\"    \"survived\"  \"name\"      \"sex\"       \"age\"       \"sibsp\"    \n",
       " [7] \"parch\"     \"ticket\"    \"fare\"      \"cabin\"     \"embarked\"  \"boat\"     \n",
       "[13] \"body\"      \"home.dest\" \"gen_dum\"   \"tot_rel\"  "
      ]
     },
     "metadata": {},
     "output_type": "display_data"
    }
   ],
   "source": [
    "names(df1)"
   ]
  },
  {
   "cell_type": "code",
   "execution_count": 38,
   "metadata": {},
   "outputs": [
    {
     "data": {
      "text/html": [
       "<ol class=list-inline>\n",
       "\t<li>1307</li>\n",
       "\t<li>16</li>\n",
       "</ol>\n"
      ],
      "text/latex": [
       "\\begin{enumerate*}\n",
       "\\item 1307\n",
       "\\item 16\n",
       "\\end{enumerate*}\n"
      ],
      "text/markdown": [
       "1. 1307\n",
       "2. 16\n",
       "\n",
       "\n"
      ],
      "text/plain": [
       "[1] 1307   16"
      ]
     },
     "metadata": {},
     "output_type": "display_data"
    }
   ],
   "source": [
    "dim(df1)"
   ]
  },
  {
   "cell_type": "code",
   "execution_count": 46,
   "metadata": {},
   "outputs": [],
   "source": [
    "df1$pclass_1 = ifelse(df1$pclass==1,1,0)\n",
    "df1$pclass_2 = ifelse(df1$pclass==2,1,0)\n",
    "df1$pclass_3 = ifelse(df1$pclass==3,1,0)\n",
    "df1$embarked_C = ifelse(df1$embarked==\"C\",1,0)\n",
    "df1$embarked_Q = ifelse(df1$embarked==\"Q\",1,0)\n",
    "df1$embarked_S = ifelse(df1$embarked==\"S\",1,0)"
   ]
  },
  {
   "cell_type": "code",
   "execution_count": 47,
   "metadata": {},
   "outputs": [
    {
     "data": {
      "text/plain": [
       "     pclass         survived                                    name     \n",
       " Min.   :1.000   Min.   :0.0000   Abbing, Mr. Anthony             :   1  \n",
       " 1st Qu.:2.000   1st Qu.:0.0000   Abbott, Master. Eugene Joseph   :   1  \n",
       " Median :3.000   Median :0.0000   Abbott, Mr. Rossmore Edward     :   1  \n",
       " Mean   :2.294   Mean   :0.3826   Abbott, Mrs. Stanton (Rosa Hunt):   1  \n",
       " 3rd Qu.:3.000   3rd Qu.:1.0000   Abelseth, Miss. Karen Marie     :   1  \n",
       " Max.   :3.000   Max.   :1.0000   Abelseth, Mr. Olaus Jorgensen   :   1  \n",
       "                                  (Other)                         :1301  \n",
       "     sex           age              sibsp            parch       \n",
       " female:465   Min.   : 0.1667   Min.   :0.0000   Min.   :0.0000  \n",
       " male  :842   1st Qu.:21.0000   1st Qu.:0.0000   1st Qu.:0.0000  \n",
       "              Median :28.0000   Median :0.0000   Median :0.0000  \n",
       "              Mean   :29.8675   Mean   :0.4996   Mean   :0.3856  \n",
       "              3rd Qu.:39.0000   3rd Qu.:1.0000   3rd Qu.:0.0000  \n",
       "              Max.   :80.0000   Max.   :8.0000   Max.   :9.0000  \n",
       "              NA's   :263                                        \n",
       "      ticket          fare                     cabin      embarked\n",
       " CA. 2343:  11   Min.   :  0.000                  :1012    :  2   \n",
       " 1601    :   8   1st Qu.:  7.896   C23 C25 C27    :   6   C:270   \n",
       " CA 2144 :   8   Median : 14.454   B57 B59 B63 B66:   5   Q:122   \n",
       " 3101295 :   7   Mean   : 33.334   G6             :   5   S:913   \n",
       " 347077  :   7   3rd Qu.: 31.275   B96 B98        :   4           \n",
       " 347082  :   7   Max.   :512.329   C22 C26        :   4           \n",
       " (Other) :1259   NA's   :1         (Other)        : 271           \n",
       "      boat          body                      home.dest      gen_dum      \n",
       "        :821   Min.   :  1.0                       :563   Min.   :0.0000  \n",
       " 13     : 39   1st Qu.: 72.0   New York, NY        : 64   1st Qu.:0.0000  \n",
       " C      : 38   Median :155.0   London              : 14   Median :1.0000  \n",
       " 15     : 37   Mean   :160.8   Montreal, PQ        : 10   Mean   :0.6442  \n",
       " 14     : 33   3rd Qu.:256.0   Cornwall / Akron, OH:  9   3rd Qu.:1.0000  \n",
       " 4      : 31   Max.   :328.0   Paris, France       :  9   Max.   :1.0000  \n",
       " (Other):308   NA's   :1186    (Other)             :638                   \n",
       "    tot_rel        .pclass.f    pclass_1         pclass_2         pclass_3     \n",
       " Min.   : 0.0000   1:323     Min.   :0.0000   Min.   :0.0000   Min.   :0.0000  \n",
       " 1st Qu.: 0.0000   2:277     1st Qu.:0.0000   1st Qu.:0.0000   1st Qu.:0.0000  \n",
       " Median : 0.0000   3:707     Median :0.0000   Median :0.0000   Median :1.0000  \n",
       " Mean   : 0.8852             Mean   :0.2471   Mean   :0.2119   Mean   :0.5409  \n",
       " 3rd Qu.: 1.0000             3rd Qu.:0.0000   3rd Qu.:0.0000   3rd Qu.:1.0000  \n",
       " Max.   :10.0000             Max.   :1.0000   Max.   :1.0000   Max.   :1.0000  \n",
       "                                                                               \n",
       "   embarked_C       embarked_Q        embarked_S    \n",
       " Min.   :0.0000   Min.   :0.00000   Min.   :0.0000  \n",
       " 1st Qu.:0.0000   1st Qu.:0.00000   1st Qu.:0.0000  \n",
       " Median :0.0000   Median :0.00000   Median :1.0000  \n",
       " Mean   :0.2066   Mean   :0.09334   Mean   :0.6985  \n",
       " 3rd Qu.:0.0000   3rd Qu.:0.00000   3rd Qu.:1.0000  \n",
       " Max.   :1.0000   Max.   :1.00000   Max.   :1.0000  \n",
       "                                                    "
      ]
     },
     "metadata": {},
     "output_type": "display_data"
    }
   ],
   "source": [
    "summary(df1)"
   ]
  },
  {
   "cell_type": "code",
   "execution_count": 57,
   "metadata": {},
   "outputs": [],
   "source": [
    "ols0 <- lm(survived ~ pclass_1+pclass_2+age+gen_dum+tot_rel+embarked_C+embarked_Q, data=df1)"
   ]
  },
  {
   "cell_type": "code",
   "execution_count": 58,
   "metadata": {},
   "outputs": [
    {
     "data": {
      "text/plain": [
       "\n",
       "Call:\n",
       "lm(formula = survived ~ pclass_1 + pclass_2 + age + gen_dum + \n",
       "    tot_rel + embarked_C + embarked_Q, data = df1)\n",
       "\n",
       "Residuals:\n",
       "     Min       1Q   Median       3Q      Max \n",
       "-1.01589 -0.24430 -0.08037  0.23385  0.99199 \n",
       "\n",
       "Coefficients:\n",
       "              Estimate Std. Error t value Pr(>|t|)    \n",
       "(Intercept)  0.7646173  0.0375630  20.356  < 2e-16 ***\n",
       "pclass_1     0.3247507  0.0344940   9.415  < 2e-16 ***\n",
       "pclass_2     0.1508298  0.0304044   4.961  8.2e-07 ***\n",
       "age         -0.0054891  0.0009527  -5.762  1.1e-08 ***\n",
       "gen_dum     -0.5027629  0.0258640 -19.439  < 2e-16 ***\n",
       "tot_rel     -0.0208334  0.0086896  -2.398 0.016683 *  \n",
       "embarked_C   0.1102923  0.0325012   3.393 0.000716 ***\n",
       "embarked_Q  -0.0946561  0.0579648  -1.633 0.102774    \n",
       "---\n",
       "Signif. codes:  0 ‘***’ 0.001 ‘**’ 0.01 ‘*’ 0.05 ‘.’ 0.1 ‘ ’ 1\n",
       "\n",
       "Residual standard error: 0.3878 on 1036 degrees of freedom\n",
       "  (263 observations deleted due to missingness)\n",
       "Multiple R-squared:  0.3825,\tAdjusted R-squared:  0.3783 \n",
       "F-statistic: 91.67 on 7 and 1036 DF,  p-value: < 2.2e-16\n"
      ]
     },
     "metadata": {},
     "output_type": "display_data"
    }
   ],
   "source": [
    "summary(ols0)"
   ]
  },
  {
   "cell_type": "code",
   "execution_count": 55,
   "metadata": {},
   "outputs": [],
   "source": [
    "# predit the survival probability using logistic regression \n",
    "logit0 <- glm(survived ~pclass_1+pclass_2+age+gen_dum+tot_rel+embarked_C+embarked_Q,\n",
    "              family=binomial(link='logit'),data=df1)"
   ]
  },
  {
   "cell_type": "code",
   "execution_count": 56,
   "metadata": {},
   "outputs": [
    {
     "data": {
      "text/plain": [
       "\n",
       "Call:\n",
       "glm(formula = survived ~ pclass_1 + pclass_2 + age + gen_dum + \n",
       "    tot_rel + embarked_C + embarked_Q, family = binomial(link = \"logit\"), \n",
       "    data = df1)\n",
       "\n",
       "Deviance Residuals: \n",
       "    Min       1Q   Median       3Q      Max  \n",
       "-2.4833  -0.6796  -0.4216   0.6538   2.4396  \n",
       "\n",
       "Coefficients:\n",
       "             Estimate Std. Error z value Pr(>|z|)    \n",
       "(Intercept)  1.509791   0.259379   5.821 5.86e-09 ***\n",
       "pclass_1     2.037904   0.237114   8.595  < 2e-16 ***\n",
       "pclass_2     0.945718   0.202530   4.670 3.02e-06 ***\n",
       "age         -0.036474   0.006654  -5.482 4.21e-08 ***\n",
       "gen_dum     -2.644953   0.177787 -14.877  < 2e-16 ***\n",
       "tot_rel     -0.146103   0.061147  -2.389  0.01688 *  \n",
       "embarked_C   0.687187   0.212010   3.241  0.00119 ** \n",
       "embarked_Q  -0.730473   0.411724  -1.774  0.07603 .  \n",
       "---\n",
       "Signif. codes:  0 ‘***’ 0.001 ‘**’ 0.01 ‘*’ 0.05 ‘.’ 0.1 ‘ ’ 1\n",
       "\n",
       "(Dispersion parameter for binomial family taken to be 1)\n",
       "\n",
       "    Null deviance: 1412.52  on 1043  degrees of freedom\n",
       "Residual deviance:  960.01  on 1036  degrees of freedom\n",
       "  (263 observations deleted due to missingness)\n",
       "AIC: 976.01\n",
       "\n",
       "Number of Fisher Scoring iterations: 5\n"
      ]
     },
     "metadata": {},
     "output_type": "display_data"
    }
   ],
   "source": [
    "summary(logit0)"
   ]
  },
  {
   "cell_type": "code",
   "execution_count": null,
   "metadata": {},
   "outputs": [],
   "source": []
  }
 ],
 "metadata": {
  "kernelspec": {
   "display_name": "R",
   "language": "R",
   "name": "r"
  },
  "language_info": {
   "codemirror_mode": "r",
   "file_extension": ".r",
   "mimetype": "text/x-r-source",
   "name": "R",
   "pygments_lexer": "r",
   "version": "3.4.1"
  }
 },
 "nbformat": 4,
 "nbformat_minor": 2
}
